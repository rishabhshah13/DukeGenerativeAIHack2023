{
 "cells": [
  {
   "cell_type": "code",
   "execution_count": 1,
   "metadata": {},
   "outputs": [
    {
     "name": "stdout",
     "output_type": "stream",
     "text": [
      "Importing the dtw module. When using in academic works please cite:\n",
      "  T. Giorgino. Computing and Visualizing Dynamic Time Warping Alignments in R: The dtw Package.\n",
      "  J. Stat. Soft., doi:10.18637/jss.v031.i07.\n",
      "\n"
     ]
    }
   ],
   "source": [
    "from lib.transcription import Whisper\n",
    "from lib.segmentation import TranscriptSegmenter, ContentAnalyzer"
   ]
  },
  {
   "cell_type": "code",
   "execution_count": 2,
   "metadata": {},
   "outputs": [
    {
     "name": "stdout",
     "output_type": "stream",
     "text": [
      "Extracting audio from video...\n",
      "Transcribing...\n"
     ]
    }
   ],
   "source": [
    "transcriber = Whisper(r'data/2-Minute Neuroscience_ Autism.mp4')\n",
    "transcript = transcriber.transcribe()"
   ]
  },
  {
   "cell_type": "code",
   "execution_count": 4,
   "metadata": {},
   "outputs": [
    {
     "data": {
      "text/plain": [
       "\"Autism, also known as autism spectrum disorder, is characterized by symptoms that include impairments in social communication and interaction, and restricted in repetitive behaviors. Although the neuroscience of autism is still poorly understood, autism is considered to be a complex developmental disorder that involves atypical brain organization starting early in development. Examples with autism often experience a period of unusually rapid brain growth in infancy and early childhood. This accelerated brain growth is linked to an atypical pattern of connectivity between brain regions. A number of studies report that alterations in brain circuitry involve with social interaction and attention can be detected well before the symptoms of autism begin to appear. At this point, however, it's unclear how brain overgrowth and atypical connectivity might be linked to the occurrence of autism symptoms. Research suggests that the risk of autism is strongly influenced by genetics, yet studies consistently report that environmental factors also play a large role. Although a number of potential environmental factors have been identified, the risk factors for autism are far from definitive, and it remains unclear which factors are responsible for causing an increase in autism risk, and which are associated in a non-causal way. The risk factors that are most strongly linked to autism are associated with the prenatal or perinatal period. Thus, it's possible they might be responsible for disruption to typical neural development, leading to symptoms of autism months or years later. How these risk factors might interfere with neural development is still uncertain, but hypotheses have suggested potential mechanisms such as epigenetic effects, inflammation, oxidative stress, or damaged cause by oxygen deficiency. More work needs to be done, however, to fully elucidate the genetic and environmental risk factors for autism, as well as the mechanisms for the development of autism symptoms.\""
      ]
     },
     "execution_count": 4,
     "metadata": {},
     "output_type": "execute_result"
    }
   ],
   "source": [
    "transcript['text']"
   ]
  },
  {
   "cell_type": "code",
   "execution_count": 5,
   "metadata": {},
   "outputs": [],
   "source": [
    "segmenter = TranscriptSegmenter()\n",
    "transcript_segments = segmenter.segment_transcript(transcript['text'])"
   ]
  },
  {
   "cell_type": "code",
   "execution_count": 6,
   "metadata": {},
   "outputs": [
    {
     "data": {
      "text/plain": [
       "{'1: Introduction to Autism Spectrum Disorder': 'Autism, also known as autism spectrum disorder, is characterized by symptoms that include impairments in social communication and interaction, and restricted in repetitive behaviors. Although the neuroscience of autism is still poorly understood, autism is considered to be a complex developmental disorder that involves atypical brain organization starting early in development.',\n",
       " '2: Brain Growth and Connectivity in Autism': 'Examples with autism often experience a period of unusually rapid brain growth in infancy and early childhood. This accelerated brain growth is linked to an atypical pattern of connectivity between brain regions. A number of studies report that alterations in brain circuitry involved with social interaction and attention can be detected well before the symptoms of autism begin to appear. However, it remains unclear how brain overgrowth and atypical connectivity might be linked to the occurrence of autism symptoms.',\n",
       " '3: Genetic and Environmental Factors in Autism': \"Research suggests that the risk of autism is strongly influenced by genetics, yet studies consistently report that environmental factors also play a large role. Although a number of potential environmental factors have been identified, the risk factors for autism are far from definitive, and it remains unclear which factors are responsible for causing an increase in autism risk, and which are associated in a non-causal way. The risk factors that are most strongly linked to autism are associated with the prenatal or perinatal period. Thus, it's possible they might be responsible for disruption to typical neural development, leading to symptoms of autism months or years later.\",\n",
       " '4: Potential Mechanisms for Autism Development': 'How these risk factors might interfere with neural development is still uncertain, but hypotheses have suggested potential mechanisms such as epigenetic effects, inflammation, oxidative stress, or damage caused by oxygen deficiency. More work needs to be done, however, to fully elucidate the genetic and environmental risk factors for autism, as well as the mechanisms for the development of autism symptoms.'}"
      ]
     },
     "execution_count": 6,
     "metadata": {},
     "output_type": "execute_result"
    }
   ],
   "source": [
    "transcript_segments"
   ]
  },
  {
   "cell_type": "code",
   "execution_count": 9,
   "metadata": {},
   "outputs": [
    {
     "data": {
      "text/plain": [
       "('2: Brain Growth and Connectivity in Autism',\n",
       " 'Examples with autism often experience a period of unusually rapid brain growth in infancy and early childhood. This accelerated brain growth is linked to an atypical pattern of connectivity between brain regions. A number of studies report that alterations in brain circuitry involved with social interaction and attention can be detected well before the symptoms of autism begin to appear. However, it remains unclear how brain overgrowth and atypical connectivity might be linked to the occurrence of autism symptoms.')"
      ]
     },
     "execution_count": 9,
     "metadata": {},
     "output_type": "execute_result"
    }
   ],
   "source": [
    "analyzer = ContentAnalyzer(transcript['data'], transcript_segments)\n",
    "current_section = analyzer.find_section_by_second(35)\n",
    "current_section"
   ]
  },
  {
   "cell_type": "code",
   "execution_count": 11,
   "metadata": {},
   "outputs": [
    {
     "data": {
      "text/plain": [
       "['1. How does the period of rapid brain growth in infancy and early childhood relate to the development of autism?',\n",
       " '2. What is the significance of the atypical pattern of connectivity between brain regions in individuals with autism?',\n",
       " '3. How do alterations in brain circuitry involved with social interaction and attention contribute to the early detection of autism symptoms?']"
      ]
     },
     "execution_count": 11,
     "metadata": {},
     "output_type": "execute_result"
    }
   ],
   "source": [
    "analyzer.generate_questions(current_section[1])"
   ]
  }
 ],
 "metadata": {
  "kernelspec": {
   "display_name": "genai2023",
   "language": "python",
   "name": "python3"
  },
  "language_info": {
   "codemirror_mode": {
    "name": "ipython",
    "version": 3
   },
   "file_extension": ".py",
   "mimetype": "text/x-python",
   "name": "python",
   "nbconvert_exporter": "python",
   "pygments_lexer": "ipython3",
   "version": "3.10.0"
  }
 },
 "nbformat": 4,
 "nbformat_minor": 2
}
